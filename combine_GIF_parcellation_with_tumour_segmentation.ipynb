{
 "cells": [
  {
   "cell_type": "code",
   "execution_count": 1,
   "id": "5c241b6a-a82a-4589-862c-e790cb6007db",
   "metadata": {},
   "outputs": [],
   "source": [
    "import nibabel as nib\n",
    "import os\n",
    "from glob import glob\n",
    "from natsort import natsorted\n",
    "import numpy as np\n",
    "from pprint import pprint"
   ]
  },
  {
   "cell_type": "code",
   "execution_count": 7,
   "id": "10012fa1-91d5-4a86-8eec-39ffd54b77c8",
   "metadata": {},
   "outputs": [],
   "source": [
    "parc_paths = natsorted(glob(os.path.join(\"parcellation_data\", \"GIF_output\", \"vs_gk_*\", \"image_NeuroMorph_Parcellation.nii.gz\")))\n",
    "segm_paths = natsorted(glob(os.path.join(\"vs_manual_segmentations\", \"vs_gk_*\", \"vs_gk_seg_refT1.nii.gz\")))\n",
    "\n",
    "out_path = os.path.join(\"parcellation_data\", \"GIF_with_tumour_all_classes\")\n",
    "\n",
    "assert(len(parc_paths) == len(segm_paths)), f\"Require same number of cases in both paths, but got {len(parc_paths)=}, {len(segm_paths)=}\""
   ]
  },
  {
   "cell_type": "code",
   "execution_count": 8,
   "id": "6151cbf7-14e5-4ea1-bdb8-89f972e8108c",
   "metadata": {},
   "outputs": [],
   "source": [
    "tumour_label_number = 300\n",
    "\n",
    "for parc_path, segm_path in list(zip(parc_paths, segm_paths)):\n",
    "    parc_nii = nib.load(parc_path)\n",
    "    segm_nii = nib.load(segm_path)\n",
    "    \n",
    "    parc_data = np.array(parc_nii.get_fdata())\n",
    "    segm_data = np.array(segm_nii.get_fdata())\n",
    "    \n",
    "    comb_data = segm_data.copy()\n",
    "    comb_data[segm_data == 1] = tumour_label_number\n",
    "    comb_data[segm_data != 1] = parc_data[segm_data != 1]\n",
    "\n",
    "    # save new combined parcellation\n",
    "    folder_name = parc_path.split(os.sep)[-2]\n",
    "    outp_path = os.path.join(out_path, folder_name)\n",
    "    \n",
    "    os.makedirs(os.path.join(outp_path), exist_ok=True)\n",
    "    \n",
    "    comb_nii = nib.Nifti1Image(comb_data, parc_nii.affine)\n",
    "    nib.save(comb_nii, os.path.join(outp_path, \"parcellation_with_tumour.nii.gz\"))"
   ]
  },
  {
   "cell_type": "code",
   "execution_count": null,
   "id": "a47b587e",
   "metadata": {},
   "outputs": [],
   "source": []
  }
 ],
 "metadata": {
  "kernelspec": {
   "display_name": "Python 3",
   "language": "python",
   "name": "python3"
  },
  "language_info": {
   "codemirror_mode": {
    "name": "ipython",
    "version": 3
   },
   "file_extension": ".py",
   "mimetype": "text/x-python",
   "name": "python",
   "nbconvert_exporter": "python",
   "pygments_lexer": "ipython3",
   "version": "3.8.10"
  }
 },
 "nbformat": 4,
 "nbformat_minor": 5
}
