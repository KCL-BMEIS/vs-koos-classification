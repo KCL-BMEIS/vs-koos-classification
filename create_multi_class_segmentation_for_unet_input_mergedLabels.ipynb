{
 "cells": [
  {
   "cell_type": "code",
   "execution_count": 1,
   "id": "95154f74-5d3f-4de9-94d1-25dc7dc29175",
   "metadata": {},
   "outputs": [],
   "source": [
    "import csv\n",
    "from glob import glob\n",
    "from natsort import natsorted\n",
    "import os\n",
    "from pprint import pprint\n",
    "import pandas as pd\n",
    "import re\n",
    "import numpy as np\n",
    "import matplotlib.pyplot as plt\n",
    "import nibabel as nib\n",
    "from tqdm.notebook import tqdm\n",
    "from multiprocessing import Pool\n",
    "from time import sleep"
   ]
  },
  {
   "cell_type": "code",
   "execution_count": 2,
   "id": "374bbfa0-6fb6-42c3-b262-ebaf1787425c",
   "metadata": {},
   "outputs": [],
   "source": [
    "parc_paths = natsorted(glob(os.path.join(\"parcellation_data\", \"GIF_with_tumour_all_classes\", \"vs_gk_*\", \"parcellation_with_tumour.nii.gz\")))\n",
    "output_path = os.path.join(\"parcellation_data\", \"GIF_with_tumour_9classes\")\n",
    "n_processes = 10  # how many parallel processes (should be less than number of available CPU cores)"
   ]
  },
  {
   "cell_type": "code",
   "execution_count": 3,
   "id": "03ccb0cd-5b53-41f0-8029-53b9c505c6c3",
   "metadata": {},
   "outputs": [
    {
     "data": {
      "text/plain": [
       "['parcellation_data/GIF_with_tumour_all_classes/vs_gk_1/parcellation_with_tumour.nii.gz',\n",
       " 'parcellation_data/GIF_with_tumour_all_classes/vs_gk_3/parcellation_with_tumour.nii.gz',\n",
       " 'parcellation_data/GIF_with_tumour_all_classes/vs_gk_4/parcellation_with_tumour.nii.gz']"
      ]
     },
     "execution_count": 3,
     "metadata": {},
     "output_type": "execute_result"
    }
   ],
   "source": [
    "parc_paths"
   ]
  },
  {
   "cell_type": "code",
   "execution_count": 4,
   "id": "498b9e0a-a4d2-4680-ab19-ad6e96edc2f1",
   "metadata": {},
   "outputs": [],
   "source": [
    "labels_to_keep = \\\n",
    "[\n",
    "    300,# tumour\n",
    "    35, # pons\n",
    "    36, # brainstem\n",
    "    72, # vermal lobules\n",
    "    73, # vermal lobules\n",
    "    74, # vermal lobules\n",
    "    39, # Right Cerebellum Exterior\n",
    "    40, # Left Cerebellum Exterior\n",
    "    41, # Right Cerebellum White Matter - merged with 39\n",
    "    42, # Left Cerebellum White Matter - merged with 40\n",
    "]\n",
    "\n",
    "labels_to_merge = [(39, 41), (40, 42)]"
   ]
  },
  {
   "cell_type": "code",
   "execution_count": 5,
   "id": "94972520-c5e5-4e9b-9ea7-7702db968fab",
   "metadata": {},
   "outputs": [],
   "source": [
    "def create_multiclass_seg(parc_path):\n",
    "    print(parc_path+\"\\n\")\n",
    "    parc_nii = nib.load(parc_path)\n",
    "    parc_data = parc_nii.get_fdata()\n",
    "\n",
    "    # merge labels\n",
    "    for (label_kept, label_removed) in labels_to_merge:\n",
    "        parc_data[parc_data==label_removed] = label_kept\n",
    "\n",
    "    # assign consecutive labels to all labels to be kept\n",
    "    seg_data = np.zeros_like(parc_data)\n",
    "    for i, l in enumerate(labels_to_keep):\n",
    "        seg_data[parc_data == l] = i+1\n",
    "\n",
    "    seg_nii = nib.Nifti1Image(seg_data, parc_nii.affine)\n",
    "\n",
    "    folder_name = parc_path.split(os.sep)[-2]\n",
    "    save_path = os.path.join(output_path, folder_name, \"vs_gk_seg_GIF_multiclass_refT1.nii.gz\")\n",
    "    os.makedirs(os.path.join(output_path, folder_name), exist_ok=True)\n",
    "    nib.save(seg_nii, save_path)"
   ]
  },
  {
   "cell_type": "code",
   "execution_count": 6,
   "id": "d199a56b-e297-4617-9956-39080c75a746",
   "metadata": {},
   "outputs": [
    {
     "name": "stdout",
     "output_type": "stream",
     "text": [
      "parcellation_data/GIF_with_tumour_all_classes/vs_gk_3/parcellation_with_tumour.nii.gz\n",
      "parcellation_data/GIF_with_tumour_all_classes/vs_gk_1/parcellation_with_tumour.nii.gz\n",
      "parcellation_data/GIF_with_tumour_all_classes/vs_gk_4/parcellation_with_tumour.nii.gz\n",
      "\n",
      "\n",
      "\n"
     ]
    }
   ],
   "source": [
    "pool = Pool(processes=n_processes)\n",
    "result = pool.map(create_multiclass_seg, parc_paths)"
   ]
  }
 ],
 "metadata": {
  "kernelspec": {
   "display_name": "Python 3",
   "language": "python",
   "name": "python3"
  },
  "language_info": {
   "codemirror_mode": {
    "name": "ipython",
    "version": 3
   },
   "file_extension": ".py",
   "mimetype": "text/x-python",
   "name": "python",
   "nbconvert_exporter": "python",
   "pygments_lexer": "ipython3",
   "version": "3.8.10"
  }
 },
 "nbformat": 4,
 "nbformat_minor": 5
}
